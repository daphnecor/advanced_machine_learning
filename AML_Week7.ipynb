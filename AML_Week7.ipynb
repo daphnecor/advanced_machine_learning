{
  "nbformat": 4,
  "nbformat_minor": 0,
  "metadata": {
    "colab": {
      "name": "AML_Week7.ipynb",
      "provenance": [],
      "collapsed_sections": [],
      "include_colab_link": true
    },
    "kernelspec": {
      "name": "python3",
      "display_name": "Python 3"
    }
  },
  "cells": [
    {
      "cell_type": "markdown",
      "metadata": {
        "id": "view-in-github",
        "colab_type": "text"
      },
      "source": [
        "<a href=\"https://colab.research.google.com/github/daphnecor/Advanced_machine_learning/blob/main/AML_Week7.ipynb\" target=\"_parent\"><img src=\"https://colab.research.google.com/assets/colab-badge.svg\" alt=\"Open In Colab\"/></a>"
      ]
    },
    {
      "cell_type": "markdown",
      "metadata": {
        "id": "ICGC_6bpHg-9"
      },
      "source": [
        "## Reproducing the phase plot of the Sherrington-Kirkpatrick (SK) model"
      ]
    },
    {
      "cell_type": "code",
      "metadata": {
        "id": "gfUwg1DWlFqt"
      },
      "source": [
        "import scipy.io as sio\n",
        "import matplotlib.pyplot as plt\n",
        "import matplotlib as mpl\n",
        "import numpy as np\n",
        "import scipy\n",
        "import pandas as pd\n",
        "import scipy.stats as stats\n",
        "import warnings \n",
        "from scipy import integrate\n",
        "import seaborn as sns\n",
        "from numpy import sqrt, cosh, tanh, pi, exp, log\n",
        "warnings.simplefilter('ignore')\n",
        "cmap = sns.diverging_palette(250, 30, l=65, center=\"dark\", as_cmap=True)\n",
        "np.random.seed(0)"
      ],
      "execution_count": null,
      "outputs": []
    },
    {
      "cell_type": "code",
      "metadata": {
        "id": "uszGZi9UzzML"
      },
      "source": [
        "'''\n",
        "Make an equally spaced grid for x and y\n",
        "'''\n",
        "x_range = np.arange(0.05, 2.05, 0.05)\n",
        "y_range = np.arange(0.05, 2.05, 0.05)\n",
        "xgrid, ygrid = np.meshgrid(x_range, y_range)   \n",
        " \n",
        "J0grid = (xgrid/ygrid)\n",
        "Jgrid= 1/ygrid"
      ],
      "execution_count": null,
      "outputs": []
    },
    {
      "cell_type": "code",
      "metadata": {
        "id": "2qiUx4UBz0Ne"
      },
      "source": [
        "'''\n",
        "Define functions for q, m and entropy h\n",
        "'''\n",
        "q_func = lambda z, q, m, J, J0: exp(-z**2/2) * cosh(J * sqrt(q) * z + J0 * m)**(-2)  \n",
        "m_func = lambda z, q, m, J, J0: exp(-z**2/2) * tanh(J * sqrt(q) * z + J0 * m)   \n",
        "h_func = lambda z, q, m, J, J0: np.exp(-(z**2)/2) * (abs((J0*m) + (J * sqrt(q) * z)) + log(1 + exp(-2 * abs((J0 * m) + (J * sqrt(q) * z))))) "
      ],
      "execution_count": null,
      "outputs": []
    },
    {
      "cell_type": "code",
      "metadata": {
        "id": "Aso-y-1Jz0YM"
      },
      "source": [
        "def fixed_point_iteration(J, J0, q_init, m_init, tol=10e-8, maxiter=1000):\n",
        "  ''' Fixed point iteration algorithm. '''\n",
        "\n",
        "  q, m, it = 10, 10, 0\n",
        "  while ((abs(q - q_init) > tol) or (abs(m - m_init) > tol)) and (iter < maxiter):\n",
        "    \n",
        "    if (abs(q - q_init) > tol):\n",
        "      q_init = q\n",
        "      q_temp, _ = scipy.integrate.quad(q_func, -np.inf, np.inf, args=(q_init, m_init, J, J0))\n",
        "      q = 1 - (1 / np.sqrt(2 * np.pi)) * q_temp\n",
        "\n",
        "    if (abs(m - m_init) > tol):\n",
        "      m_init = m\n",
        "      m_temp, _ = scipy.integrate.quad(m_func, -np.inf, np.inf, args=(q_init, m_init, J, J0)) \n",
        "      m = (1 / np.sqrt(2 * np.pi)) * m_temp\n",
        "    it += 1\n",
        "    \n",
        "  return [q, m, it]"
      ],
      "execution_count": null,
      "outputs": []
    },
    {
      "cell_type": "code",
      "metadata": {
        "id": "9fcUblhgz0bp"
      },
      "source": [
        "'''\n",
        "Run everything\n",
        "'''\n",
        "Q = np.zeros_like(xgrid)\n",
        "M = np.zeros_like(xgrid)\n",
        "H = np.zeros_like(xgrid)\n",
        "iters = np.zeros_like(xgrid)\n",
        "\n",
        "np.random.seed(0)\n",
        "\n",
        "q_init, m_init = np.random.rand(), np.random.rand()\n",
        "\n",
        "for i, x in enumerate(J0grid):\n",
        "  for j, y in enumerate(Jgrid):\n",
        "\n",
        "    J0 = J0grid[i, j]\n",
        "    J  = Jgrid[i, j]\n",
        "\n",
        "    q, m, iters[i, j] = fixed_point_iteration(J, J0, q_init, m_init)\n",
        "    \n",
        "    Q[i, j], M[i, j] = q, m\n",
        "\n",
        "    entropy, _ = scipy.integrate.quad(h_func, -np.inf, np.inf, args=(q, m, J, J0)) \n",
        "    H[i, j] = (-1/4) * (J**2) * ((q - 1)**2) + (1/sqrt(2*pi)) * entropy - (J0*(m**2)) - ((J**2) * q * (1-q)) "
      ],
      "execution_count": null,
      "outputs": []
    },
    {
      "cell_type": "markdown",
      "metadata": {
        "id": "wNv0IBKwGODP"
      },
      "source": [
        "## Plot the solutions for q amd m"
      ]
    },
    {
      "cell_type": "code",
      "metadata": {
        "colab": {
          "base_uri": "https://localhost:8080/",
          "height": 513
        },
        "id": "Qdltdd4Fz0fZ",
        "outputId": "cdd6c5b8-2eab-42a8-8b7e-55b41857a24b"
      },
      "source": [
        "fig, (ax1, ax2) = plt.subplots(1,2, figsize = (15, 6), dpi=90)\n",
        "ax1.set_title(r'$q$', fontsize=16)\n",
        "cp = ax1.contourf(xgrid, ygrid, Q, cmap=cmap)\n",
        "ax1.set_xlabel(r'$J_0/J$', fontsize=16) # x\n",
        "ax1.set_ylabel(r'$1/J$', fontsize=16);  # y\n",
        "ax1.set_xticks([0.5, 1, 1.5, 2])\n",
        "ax1.set_yticks([0.5, 1, 1.5, 2])\n",
        "\n",
        "ax2.set_title(r'$m$', fontsize=16)\n",
        "ax2.contourf(xgrid, ygrid, M, cmap=cmap)\n",
        "ax2.set_xlabel(r'$J_0 / J$', fontsize=16)\n",
        "ax2.set_ylabel(r'$1 / J$', fontsize=16);\n",
        "ax2.set_xticks([0.5, 1, 1.5, 2])\n",
        "ax2.set_yticks([0.5, 1, 1.5, 2])\n",
        "\n",
        "fig.subplots_adjust(right=0.8)\n",
        "cbar_ax = fig.add_axes([0.85, 0.15, 0.04, 0.7])\n",
        "fig.colorbar(cp, cax=cbar_ax, ticks=np.arange(0.1,1.1,0.1));"
      ],
      "execution_count": null,
      "outputs": [
        {
          "output_type": "display_data",
          "data": {
            "image/png": "[encoded data removed]",
            "text/plain": [
              "<Figure size 1350x540 with 3 Axes>"
            ]
          },
          "metadata": {
            "tags": [],
            "needs_background": "light"
          }
        }
      ]
    },
    {
      "cell_type": "markdown",
      "metadata": {
        "id": "LJPNYps8EyyP"
      },
      "source": [
        "## Plot the entropy H"
      ]
    },
    {
      "cell_type": "code",
      "metadata": {
        "colab": {
          "base_uri": "https://localhost:8080/",
          "height": 414
        },
        "id": "ZSMytZsN7EHo",
        "outputId": "46942f08-470c-425f-a29a-bac23370c329"
      },
      "source": [
        "fig, (ax1, ax2) = plt.subplots(1, 2, figsize=(16, 6), sharex=True, sharey=True);\n",
        "\n",
        "pcm = ax1.pcolormesh(xgrid, ygrid, H, cmap=cmap);\n",
        "ax1.set_xlabel(r'$J_0/J$', fontsize=14) # x\n",
        "ax1.set_ylabel(r'$1/J$', fontsize=14)  # y\n",
        "ax1.set_title(r'$H$', fontsize=16)\n",
        "fig.colorbar(plt.cm.ScalarMappable(cmap=cmap), ax=ax1)\n",
        "\n",
        "H_th = H > 0\n",
        "pcm = ax2.pcolormesh(xgrid, ygrid, H_th, cmap=cmap)\n",
        "ax2.set_xlabel(r'$J_0/J$', fontsize=14) # x\n",
        "ax2.set_ylabel(r'$1/J$', fontsize=14)  # y\n",
        "ax2.set_title(r'Thresholded ($H_{th} = 0$)', fontsize=16)\n",
        "fig.colorbar(plt.cm.ScalarMappable(cmap=cmap), ax=ax2);"
      ],
      "execution_count": null,
      "outputs": [
        {
          "output_type": "display_data",
          "data": {
            "image/png": "[encoded data removed]",
            "text/plain": [
              "<Figure size 1152x432 with 4 Axes>"
            ]
          },
          "metadata": {
            "tags": [],
            "needs_background": "light"
          }
        }
      ]
    }
  ]
}